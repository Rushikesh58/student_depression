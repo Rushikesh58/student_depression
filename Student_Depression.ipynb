{
 "cells": [
  {
   "cell_type": "markdown",
   "metadata": {
    "application/vnd.databricks.v1+cell": {
     "cellMetadata": {},
     "inputWidgets": {},
     "nuid": "66204012-4221-4294-b4d3-80bdfa0d2f88",
     "showTitle": false,
     "tableResultSettingsMap": {},
     "title": ""
    }
   },
   "source": [
    "### Student Depression"
   ]
  },
  {
   "cell_type": "markdown",
   "metadata": {
    "application/vnd.databricks.v1+cell": {
     "cellMetadata": {},
     "inputWidgets": {},
     "nuid": "4210935a-3566-49d8-bb79-4411fd6b56e1",
     "showTitle": false,
     "tableResultSettingsMap": {},
     "title": ""
    }
   },
   "source": [
    "#Bronze Layer - Data Retrival"
   ]
  },
  {
   "cell_type": "code",
   "execution_count": 0,
   "metadata": {
    "application/vnd.databricks.v1+cell": {
     "cellMetadata": {
      "byteLimit": 2048000,
      "rowLimit": 10000
     },
     "inputWidgets": {},
     "nuid": "043e4c48-bce7-4d51-83c6-2be44dfd90c8",
     "showTitle": false,
     "tableResultSettingsMap": {},
     "title": ""
    }
   },
   "outputs": [],
   "source": [
    "spark.conf.set(\"fs.s3a.access.key\", \"<you access key>\")\n",
    "spark.conf.set(\"fs.s3a.secret.key\", \"<your access secret>\")\n",
    "spark.conf.set(\"fs.s3a.endpoint\", \"s3.amazonaws.com\")"
   ]
  },
  {
   "cell_type": "code",
   "execution_count": 0,
   "metadata": {
    "application/vnd.databricks.v1+cell": {
     "cellMetadata": {
      "byteLimit": 2048000,
      "rowLimit": 10000
     },
     "inputWidgets": {},
     "nuid": "8f2dda95-b591-4392-93a8-bef098ab52e7",
     "showTitle": false,
     "tableResultSettingsMap": {},
     "title": ""
    }
   },
   "outputs": [],
   "source": [
    "s3_path = \"s3://student-depression/student-data/student_depression_dataset.csv\""
   ]
  },
  {
   "cell_type": "code",
   "execution_count": 0,
   "metadata": {
    "application/vnd.databricks.v1+cell": {
     "cellMetadata": {
      "byteLimit": 2048000,
      "rowLimit": 10000
     },
     "inputWidgets": {},
     "nuid": "772ebf15-f7e7-47d2-ab9f-38a9dfbc9c10",
     "showTitle": false,
     "tableResultSettingsMap": {},
     "title": ""
    }
   },
   "outputs": [
    {
     "output_type": "stream",
     "name": "stdout",
     "output_type": "stream",
     "text": [
      "+---+------+----+-------------+----------+-----------------+-------------+----+------------------+----------------+-------------------+--------------+----------+-----------------------------------+--------------------+----------------+--------------------------------+----------+--------------------+--------------------+\n| id|Gender| Age|         City|Profession|Academic_Pressure|Work_Pressure|CGPA|Study_Satisfaction|Job_Satisfaction|     Sleep_Duration|Dietary_Habits|    Degree|Have_you_ever_had_suicidal_thoughts|Work_and_Study_Hours|Financial_Stress|Family_History_of_Mental_Illness|Depression|           load_date|    source_file_name|\n+---+------+----+-------------+----------+-----------------+-------------+----+------------------+----------------+-------------------+--------------+----------+-----------------------------------+--------------------+----------------+--------------------------------+----------+--------------------+--------------------+\n|  2|  Male|null|Visakhapatnam|   Student|             null|         null|8.97|              null|            null|        '5-6 hours'|       Healthy|   B.Pharm|                                Yes|                null|            null|                              No|         1|2025-04-18 22:25:...|s3://student-depr...|\n|  8|Female|null|    Bangalore|   Student|             null|         null| 5.9|              null|            null|        '5-6 hours'|      Moderate|       BSc|                                 No|                null|            null|                             Yes|         0|2025-04-18 22:25:...|s3://student-depr...|\n| 26|  Male|null|     Srinagar|   Student|             null|         null|7.03|              null|            null|'Less than 5 hours'|       Healthy|        BA|                                 No|                null|            null|                             Yes|         0|2025-04-18 22:25:...|s3://student-depr...|\n| 30|Female|null|     Varanasi|   Student|             null|         null|5.59|              null|            null|        '7-8 hours'|      Moderate|       BCA|                                Yes|                null|            null|                             Yes|         1|2025-04-18 22:25:...|s3://student-depr...|\n| 32|Female|null|       Jaipur|   Student|             null|         null|8.13|              null|            null|        '5-6 hours'|      Moderate|    M.Tech|                                Yes|                null|            null|                              No|         0|2025-04-18 22:25:...|s3://student-depr...|\n| 33|  Male|null|         Pune|   Student|             null|         null| 5.7|              null|            null|'Less than 5 hours'|       Healthy|       PhD|                                 No|                null|            null|                              No|         0|2025-04-18 22:25:...|s3://student-depr...|\n| 52|  Male|null|        Thane|   Student|             null|         null|9.54|              null|            null|        '7-8 hours'|       Healthy|       BSc|                                 No|                null|            null|                              No|         0|2025-04-18 22:25:...|s3://student-depr...|\n| 56|Female|null|      Chennai|   Student|             null|         null|8.04|              null|            null|'Less than 5 hours'|     Unhealthy|'Class 12'|                                 No|                null|            null|                             Yes|         0|2025-04-18 22:25:...|s3://student-depr...|\n| 59|  Male|null|       Nagpur|   Student|             null|         null|9.79|              null|            null|        '7-8 hours'|      Moderate|      B.Ed|                                Yes|                null|            null|                              No|         1|2025-04-18 22:25:...|s3://student-depr...|\n| 62|  Male|null|       Nashik|   Student|             null|         null|8.38|              null|            null|'Less than 5 hours'|      Moderate|       LLB|                                Yes|                null|            null|                              No|         1|2025-04-18 22:25:...|s3://student-depr...|\n| 83|  Male|null|       Nagpur|   Student|             null|         null| 6.1|              null|            null|        '5-6 hours'|      Moderate|'Class 12'|                                Yes|                null|            null|                             Yes|         1|2025-04-18 22:25:...|s3://student-depr...|\n| 91|  Male|null|     Vadodara|   Student|             null|         null|7.03|              null|            null|'Less than 5 hours'|       Healthy|        BE|                                Yes|                null|            null|                             Yes|         0|2025-04-18 22:25:...|s3://student-depr...|\n| 94|  Male|null|       Kalyan|   Student|             null|         null|7.04|              null|            null|'Less than 5 hours'|      Moderate|    M.Tech|                                 No|                null|            null|                             Yes|         1|2025-04-18 22:25:...|s3://student-depr...|\n|100|Female|null|       Rajkot|   Student|             null|         null|8.52|              null|            null|'Less than 5 hours'|     Unhealthy|'Class 12'|                                 No|                null|            null|                             Yes|         0|2025-04-18 22:25:...|s3://student-depr...|\n|103|Female|null|       Kalyan|   Student|             null|         null|5.64|              null|            null|'Less than 5 hours'|      Moderate|'Class 12'|                                Yes|                null|            null|                             Yes|         1|2025-04-18 22:25:...|s3://student-depr...|\n|106|  Male|null|     Srinagar|   Student|             null|         null|8.58|              null|            null|'More than 8 hours'|      Moderate|    M.Tech|                                Yes|                null|            null|                             Yes|         1|2025-04-18 22:25:...|s3://student-depr...|\n|120|  Male|null|       Nashik|   Student|             null|         null|6.51|              null|            null|'Less than 5 hours'|     Unhealthy|      M.Ed|                                Yes|                null|            null|                             Yes|         1|2025-04-18 22:25:...|s3://student-depr...|\n|132|Female|null|    Ahmedabad|   Student|             null|         null|7.25|              null|            null|        '5-6 hours'|       Healthy|'Class 12'|                                Yes|                null|            null|                              No|         1|2025-04-18 22:25:...|s3://student-depr...|\n|139|  Male|null|      Chennai|   Student|             null|         null|7.83|              null|            null|        '7-8 hours'|     Unhealthy|'Class 12'|                                 No|                null|            null|                              No|         0|2025-04-18 22:25:...|s3://student-depr...|\n|145|  Male|null|       Kalyan|   Student|             null|         null|9.93|              null|            null|        '5-6 hours'|      Moderate|      B.Ed|                                 No|                null|            null|                             Yes|         1|2025-04-18 22:25:...|s3://student-depr...|\n+---+------+----+-------------+----------+-----------------+-------------+----+------------------+----------------+-------------------+--------------+----------+-----------------------------------+--------------------+----------------+--------------------------------+----------+--------------------+--------------------+\nonly showing top 20 rows\n\n"
     ]
    }
   ],
   "source": [
    "from pyspark.sql.types import StructType, StructField, IntegerType, StringType, DoubleType\n",
    "\n",
    "schema = StructType([\n",
    "    StructField(\"id\", IntegerType(), True),\n",
    "    StructField(\"Gender\", StringType(), True),\n",
    "    StructField(\"Age\", IntegerType(), True),\n",
    "    StructField(\"City\", StringType(), True),\n",
    "    StructField(\"Profession\", StringType(), True),\n",
    "    StructField(\"Academic_Pressure\", IntegerType(), True),\n",
    "    StructField(\"Work_Pressure\", IntegerType(), True),\n",
    "    StructField(\"CGPA\", DoubleType(), True),\n",
    "    StructField(\"Study_Satisfaction\", IntegerType(), True),\n",
    "    StructField(\"Job_Satisfaction\", IntegerType(), True),\n",
    "    StructField(\"Sleep_Duration\", StringType(), True),\n",
    "    StructField(\"Dietary_Habits\", StringType(), True),\n",
    "    StructField(\"Degree\", StringType(), True),\n",
    "    StructField(\"Have_you_ever_had_suicidal_thoughts\", StringType(), True),\n",
    "    StructField(\"Work_and_Study_Hours\", IntegerType(), True),\n",
    "    StructField(\"Financial_Stress\", IntegerType(), True),\n",
    "    StructField(\"Family_History_of_Mental_Illness\", StringType(), True),\n",
    "    StructField(\"Depression\", IntegerType(), True)\n",
    "])\n",
    "\n",
    "\n",
    "raw_data = spark.read.format(\"csv\").option(\"header\", \"true\").schema(schema).load(s3_path)\n",
    "\n",
    "# Step 2: Add metadata for traceability\n",
    "from pyspark.sql.functions import current_timestamp, input_file_name\n",
    "\n",
    "bronze_data = raw_data.withColumn(\"load_date\", current_timestamp()) \\\n",
    "                      .withColumn(\"source_file_name\", input_file_name())\n",
    "\n",
    "bronze_data.show()"
   ]
  },
  {
   "cell_type": "code",
   "execution_count": 0,
   "metadata": {
    "application/vnd.databricks.v1+cell": {
     "cellMetadata": {
      "byteLimit": 2048000,
      "rowLimit": 10000
     },
     "inputWidgets": {},
     "nuid": "97677a9b-ceea-4ada-b961-8ed5e2478092",
     "showTitle": false,
     "tableResultSettingsMap": {},
     "title": ""
    }
   },
   "outputs": [],
   "source": [
    "spark.sql(\"CREATE DATABASE IF NOT EXISTS bronze\")\n",
    "bronze_data.write.format(\"delta\") \\\n",
    "    .mode(\"overwrite\") \\\n",
    "    .saveAsTable(\"bronze.bronze_data\")\n"
   ]
  },
  {
   "cell_type": "markdown",
   "metadata": {
    "application/vnd.databricks.v1+cell": {
     "cellMetadata": {},
     "inputWidgets": {},
     "nuid": "0ce6f7bb-1019-43f9-a314-59b3be21fe8a",
     "showTitle": false,
     "tableResultSettingsMap": {},
     "title": ""
    }
   },
   "source": [
    "#Silver Layer - Data cleansing"
   ]
  },
  {
   "cell_type": "code",
   "execution_count": 0,
   "metadata": {
    "application/vnd.databricks.v1+cell": {
     "cellMetadata": {
      "byteLimit": 2048000,
      "rowLimit": 10000
     },
     "inputWidgets": {},
     "nuid": "6235b495-3cce-451a-823b-2b57866cf293",
     "showTitle": false,
     "tableResultSettingsMap": {},
     "title": ""
    }
   },
   "outputs": [
    {
     "output_type": "stream",
     "name": "stdout",
     "output_type": "stream",
     "text": [
      "+---+------+----+-------------+----------+-----------------+-------------+----+------------------+----------------+-----------------+--------------+----------+-----------------------------------+--------------------+----------------+--------------------------------+----------+-----------------------+-------------------------------------------------------------------+-----------------------+\n|id |Gender|Age |City         |Profession|Academic_Pressure|Work_Pressure|CGPA|Study_Satisfaction|Job_Satisfaction|Sleep_Duration   |Dietary_Habits|Degree    |Have_you_ever_had_suicidal_thoughts|Work_and_Study_Hours|Financial_Stress|Family_History_of_Mental_Illness|Depression|load_date              |source_file_name                                                   |processed_date         |\n+---+------+----+-------------+----------+-----------------+-------------+----+------------------+----------------+-----------------+--------------+----------+-----------------------------------+--------------------+----------------+--------------------------------+----------+-----------------------+-------------------------------------------------------------------+-----------------------+\n|2  |male  |null|visakhapatnam|student   |null             |null         |8.97|null              |null            |5-6 hours        |healthy       |b.pharm   |1                                  |null                |null            |0                               |1         |2025-04-18 22:58:32.609|s3://student-depression/student-data/student_depression_dataset.csv|2025-04-18 22:58:32.609|\n|8  |female|null|bangalore    |student   |null             |null         |5.9 |null              |null            |5-6 hours        |moderate      |bsc       |0                                  |null                |null            |1                               |0         |2025-04-18 22:58:32.609|s3://student-depression/student-data/student_depression_dataset.csv|2025-04-18 22:58:32.609|\n|26 |male  |null|srinagar     |student   |null             |null         |7.03|null              |null            |less than 5 hours|healthy       |ba        |0                                  |null                |null            |1                               |0         |2025-04-18 22:58:32.609|s3://student-depression/student-data/student_depression_dataset.csv|2025-04-18 22:58:32.609|\n|30 |female|null|varanasi     |student   |null             |null         |5.59|null              |null            |7-8 hours        |moderate      |bca       |1                                  |null                |null            |1                               |1         |2025-04-18 22:58:32.609|s3://student-depression/student-data/student_depression_dataset.csv|2025-04-18 22:58:32.609|\n|32 |female|null|jaipur       |student   |null             |null         |8.13|null              |null            |5-6 hours        |moderate      |m.tech    |1                                  |null                |null            |0                               |0         |2025-04-18 22:58:32.609|s3://student-depression/student-data/student_depression_dataset.csv|2025-04-18 22:58:32.609|\n|33 |male  |null|pune         |student   |null             |null         |5.7 |null              |null            |less than 5 hours|healthy       |phd       |0                                  |null                |null            |0                               |0         |2025-04-18 22:58:32.609|s3://student-depression/student-data/student_depression_dataset.csv|2025-04-18 22:58:32.609|\n|52 |male  |null|thane        |student   |null             |null         |9.54|null              |null            |7-8 hours        |healthy       |bsc       |0                                  |null                |null            |0                               |0         |2025-04-18 22:58:32.609|s3://student-depression/student-data/student_depression_dataset.csv|2025-04-18 22:58:32.609|\n|56 |female|null|chennai      |student   |null             |null         |8.04|null              |null            |less than 5 hours|unhealthy     |'class 12'|0                                  |null                |null            |1                               |0         |2025-04-18 22:58:32.609|s3://student-depression/student-data/student_depression_dataset.csv|2025-04-18 22:58:32.609|\n|59 |male  |null|nagpur       |student   |null             |null         |9.79|null              |null            |7-8 hours        |moderate      |b.ed      |1                                  |null                |null            |0                               |1         |2025-04-18 22:58:32.609|s3://student-depression/student-data/student_depression_dataset.csv|2025-04-18 22:58:32.609|\n|62 |male  |null|nashik       |student   |null             |null         |8.38|null              |null            |less than 5 hours|moderate      |llb       |1                                  |null                |null            |0                               |1         |2025-04-18 22:58:32.609|s3://student-depression/student-data/student_depression_dataset.csv|2025-04-18 22:58:32.609|\n|83 |male  |null|nagpur       |student   |null             |null         |6.1 |null              |null            |5-6 hours        |moderate      |'class 12'|1                                  |null                |null            |1                               |1         |2025-04-18 22:58:32.609|s3://student-depression/student-data/student_depression_dataset.csv|2025-04-18 22:58:32.609|\n|91 |male  |null|vadodara     |student   |null             |null         |7.03|null              |null            |less than 5 hours|healthy       |be        |1                                  |null                |null            |1                               |0         |2025-04-18 22:58:32.609|s3://student-depression/student-data/student_depression_dataset.csv|2025-04-18 22:58:32.609|\n|94 |male  |null|kalyan       |student   |null             |null         |7.04|null              |null            |less than 5 hours|moderate      |m.tech    |0                                  |null                |null            |1                               |1         |2025-04-18 22:58:32.609|s3://student-depression/student-data/student_depression_dataset.csv|2025-04-18 22:58:32.609|\n|100|female|null|rajkot       |student   |null             |null         |8.52|null              |null            |less than 5 hours|unhealthy     |'class 12'|0                                  |null                |null            |1                               |0         |2025-04-18 22:58:32.609|s3://student-depression/student-data/student_depression_dataset.csv|2025-04-18 22:58:32.609|\n|103|female|null|kalyan       |student   |null             |null         |5.64|null              |null            |less than 5 hours|moderate      |'class 12'|1                                  |null                |null            |1                               |1         |2025-04-18 22:58:32.609|s3://student-depression/student-data/student_depression_dataset.csv|2025-04-18 22:58:32.609|\n|106|male  |null|srinagar     |student   |null             |null         |8.58|null              |null            |more than 8 hours|moderate      |m.tech    |1                                  |null                |null            |1                               |1         |2025-04-18 22:58:32.609|s3://student-depression/student-data/student_depression_dataset.csv|2025-04-18 22:58:32.609|\n|120|male  |null|nashik       |student   |null             |null         |6.51|null              |null            |less than 5 hours|unhealthy     |m.ed      |1                                  |null                |null            |1                               |1         |2025-04-18 22:58:32.609|s3://student-depression/student-data/student_depression_dataset.csv|2025-04-18 22:58:32.609|\n|132|female|null|ahmedabad    |student   |null             |null         |7.25|null              |null            |5-6 hours        |healthy       |'class 12'|1                                  |null                |null            |0                               |1         |2025-04-18 22:58:32.609|s3://student-depression/student-data/student_depression_dataset.csv|2025-04-18 22:58:32.609|\n|139|male  |null|chennai      |student   |null             |null         |7.83|null              |null            |7-8 hours        |unhealthy     |'class 12'|0                                  |null                |null            |0                               |0         |2025-04-18 22:58:32.609|s3://student-depression/student-data/student_depression_dataset.csv|2025-04-18 22:58:32.609|\n|145|male  |null|kalyan       |student   |null             |null         |9.93|null              |null            |5-6 hours        |moderate      |b.ed      |0                                  |null                |null            |1                               |1         |2025-04-18 22:58:32.609|s3://student-depression/student-data/student_depression_dataset.csv|2025-04-18 22:58:32.609|\n+---+------+----+-------------+----------+-----------------+-------------+----+------------------+----------------+-----------------+--------------+----------+-----------------------------------+--------------------+----------------+--------------------------------+----------+-----------------------+-------------------------------------------------------------------+-----------------------+\nonly showing top 20 rows\n\n"
     ]
    }
   ],
   "source": [
    "from pyspark.sql.functions import col, trim, lower, when, regexp_replace\n",
    "\n",
    "# Step 1: Trim and standardize string columns\n",
    "string_cols = [\n",
    "    \"Gender\", \"City\", \"Profession\", \"Sleep_Duration\", \"Dietary_Habits\",\n",
    "    \"Degree\", \"Have_you_ever_had_suicidal_thoughts\", \"Family_History_of_Mental_Illness\"\n",
    "]\n",
    "\n",
    "silver_data = bronze_data\n",
    "\n",
    "# Apply trimming and lowercasing to string columns\n",
    "for col_name in string_cols:\n",
    "    silver_data = silver_data.withColumn(col_name, lower(trim(col(col_name))))\n",
    "\n",
    "# Step 2: Clean specific fields\n",
    "silver_data = silver_data.withColumn(\n",
    "    \"Sleep_Duration\", regexp_replace(\"Sleep_Duration\", \"'\", \"\")  # remove single quotes\n",
    ")\n",
    "\n",
    "# Step 3: Replace yes/no with boolean 1/0 where meaningful\n",
    "silver_data = silver_data.withColumn(\n",
    "    \"Have_you_ever_had_suicidal_thoughts\",\n",
    "    when(col(\"Have_you_ever_had_suicidal_thoughts\") == \"yes\", 1)\n",
    "    .when(col(\"Have_you_ever_had_suicidal_thoughts\") == \"no\", 0)\n",
    "    .otherwise(None)\n",
    ")\n",
    "\n",
    "silver_data = silver_data.withColumn(\n",
    "    \"Family_History_of_Mental_Illness\",\n",
    "    when(col(\"Family_History_of_Mental_Illness\") == \"yes\", 1)\n",
    "    .when(col(\"Family_History_of_Mental_Illness\") == \"no\", 0)\n",
    "    .otherwise(None)\n",
    ")\n",
    "\n",
    "# Step 4: Drop records with impossible or missing values\n",
    "#silver_data = silver_data.filter(\n",
    "#    (col(\"Age\") >= 10) & (col(\"Age\") <= 100) & (col(\"CGPA\").isNotNull())\n",
    "#)\n",
    "\n",
    "# Step 5: Add transformed timestamp columns if needed\n",
    "from pyspark.sql.functions import current_timestamp\n",
    "silver_data = silver_data.withColumn(\"processed_date\", current_timestamp())\n",
    "\n",
    "# Optional: show cleaned data\n",
    "silver_data.show(truncate=False)\n"
   ]
  },
  {
   "cell_type": "code",
   "execution_count": 0,
   "metadata": {
    "application/vnd.databricks.v1+cell": {
     "cellMetadata": {
      "byteLimit": 2048000,
      "rowLimit": 10000
     },
     "inputWidgets": {},
     "nuid": "6f84102d-53e1-4fea-91c9-5cd941857656",
     "showTitle": false,
     "tableResultSettingsMap": {},
     "title": ""
    }
   },
   "outputs": [],
   "source": [
    "spark.sql(\"CREATE DATABASE IF NOT EXISTS silver\")\n",
    "\n",
    "silver_data.write.format(\"delta\") \\\n",
    "    .mode(\"overwrite\") \\\n",
    "    .saveAsTable(\"silver.silver_data\")\n"
   ]
  },
  {
   "cell_type": "markdown",
   "metadata": {
    "application/vnd.databricks.v1+cell": {
     "cellMetadata": {},
     "inputWidgets": {},
     "nuid": "34b2a020-045f-4d5b-ae00-a025784a2f26",
     "showTitle": false,
     "tableResultSettingsMap": {},
     "title": ""
    }
   },
   "source": [
    "#Gold Layer - Data aggregation"
   ]
  },
  {
   "cell_type": "code",
   "execution_count": 0,
   "metadata": {
    "application/vnd.databricks.v1+cell": {
     "cellMetadata": {
      "byteLimit": 2048000,
      "rowLimit": 10000
     },
     "inputWidgets": {},
     "nuid": "affaf22a-587a-4be4-89fd-307568f69524",
     "showTitle": false,
     "tableResultSettingsMap": {},
     "title": ""
    }
   },
   "outputs": [
    {
     "output_type": "stream",
     "name": "stdout",
     "output_type": "stream",
     "text": [
      "+---+------+----+-------------+----------+-----------------+-------------+----+------------------+----------------+-----------------+--------------+----------+-----------------------------------+--------------------+----------------+--------------------------------+----------+-----------------------+-------------------------------------------------------------------+-----------------------+--------------+------------------+-------------+-----------------------+----------------+-----------------------+\n|id |Gender|Age |City         |Profession|Academic_Pressure|Work_Pressure|CGPA|Study_Satisfaction|Job_Satisfaction|Sleep_Duration   |Dietary_Habits|Degree    |Have_you_ever_had_suicidal_thoughts|Work_and_Study_Hours|Financial_Stress|Family_History_of_Mental_Illness|Depression|load_date              |source_file_name                                                   |processed_date         |Overall_Stress|Total_Satisfaction|Sleep_Quality|Mental_Health_Risk_Flag|Depression_Label|gold_processed_date    |\n+---+------+----+-------------+----------+-----------------+-------------+----+------------------+----------------+-----------------+--------------+----------+-----------------------------------+--------------------+----------------+--------------------------------+----------+-----------------------+-------------------------------------------------------------------+-----------------------+--------------+------------------+-------------+-----------------------+----------------+-----------------------+\n|2  |male  |null|visakhapatnam|student   |null             |null         |8.97|null              |null            |5-6 hours        |healthy       |b.pharm   |1                                  |null                |null            |0                               |1         |2025-04-18 23:01:26.258|s3://student-depression/student-data/student_depression_dataset.csv|2025-04-18 23:01:26.258|null          |null              |Moderate     |1                      |Depressed       |2025-04-18 23:01:26.258|\n|8  |female|null|bangalore    |student   |null             |null         |5.9 |null              |null            |5-6 hours        |moderate      |bsc       |0                                  |null                |null            |1                               |0         |2025-04-18 23:01:26.258|s3://student-depression/student-data/student_depression_dataset.csv|2025-04-18 23:01:26.258|null          |null              |Moderate     |1                      |Not Depressed   |2025-04-18 23:01:26.258|\n|26 |male  |null|srinagar     |student   |null             |null         |7.03|null              |null            |less than 5 hours|healthy       |ba        |0                                  |null                |null            |1                               |0         |2025-04-18 23:01:26.258|s3://student-depression/student-data/student_depression_dataset.csv|2025-04-18 23:01:26.258|null          |null              |Poor         |1                      |Not Depressed   |2025-04-18 23:01:26.258|\n|30 |female|null|varanasi     |student   |null             |null         |5.59|null              |null            |7-8 hours        |moderate      |bca       |1                                  |null                |null            |1                               |1         |2025-04-18 23:01:26.258|s3://student-depression/student-data/student_depression_dataset.csv|2025-04-18 23:01:26.258|null          |null              |Good         |1                      |Depressed       |2025-04-18 23:01:26.258|\n|32 |female|null|jaipur       |student   |null             |null         |8.13|null              |null            |5-6 hours        |moderate      |m.tech    |1                                  |null                |null            |0                               |0         |2025-04-18 23:01:26.258|s3://student-depression/student-data/student_depression_dataset.csv|2025-04-18 23:01:26.258|null          |null              |Moderate     |1                      |Not Depressed   |2025-04-18 23:01:26.258|\n|33 |male  |null|pune         |student   |null             |null         |5.7 |null              |null            |less than 5 hours|healthy       |phd       |0                                  |null                |null            |0                               |0         |2025-04-18 23:01:26.258|s3://student-depression/student-data/student_depression_dataset.csv|2025-04-18 23:01:26.258|null          |null              |Poor         |0                      |Not Depressed   |2025-04-18 23:01:26.258|\n|52 |male  |null|thane        |student   |null             |null         |9.54|null              |null            |7-8 hours        |healthy       |bsc       |0                                  |null                |null            |0                               |0         |2025-04-18 23:01:26.258|s3://student-depression/student-data/student_depression_dataset.csv|2025-04-18 23:01:26.258|null          |null              |Good         |0                      |Not Depressed   |2025-04-18 23:01:26.258|\n|56 |female|null|chennai      |student   |null             |null         |8.04|null              |null            |less than 5 hours|unhealthy     |'class 12'|0                                  |null                |null            |1                               |0         |2025-04-18 23:01:26.258|s3://student-depression/student-data/student_depression_dataset.csv|2025-04-18 23:01:26.258|null          |null              |Poor         |1                      |Not Depressed   |2025-04-18 23:01:26.258|\n|59 |male  |null|nagpur       |student   |null             |null         |9.79|null              |null            |7-8 hours        |moderate      |b.ed      |1                                  |null                |null            |0                               |1         |2025-04-18 23:01:26.258|s3://student-depression/student-data/student_depression_dataset.csv|2025-04-18 23:01:26.258|null          |null              |Good         |1                      |Depressed       |2025-04-18 23:01:26.258|\n|62 |male  |null|nashik       |student   |null             |null         |8.38|null              |null            |less than 5 hours|moderate      |llb       |1                                  |null                |null            |0                               |1         |2025-04-18 23:01:26.258|s3://student-depression/student-data/student_depression_dataset.csv|2025-04-18 23:01:26.258|null          |null              |Poor         |1                      |Depressed       |2025-04-18 23:01:26.258|\n|83 |male  |null|nagpur       |student   |null             |null         |6.1 |null              |null            |5-6 hours        |moderate      |'class 12'|1                                  |null                |null            |1                               |1         |2025-04-18 23:01:26.258|s3://student-depression/student-data/student_depression_dataset.csv|2025-04-18 23:01:26.258|null          |null              |Moderate     |1                      |Depressed       |2025-04-18 23:01:26.258|\n|91 |male  |null|vadodara     |student   |null             |null         |7.03|null              |null            |less than 5 hours|healthy       |be        |1                                  |null                |null            |1                               |0         |2025-04-18 23:01:26.258|s3://student-depression/student-data/student_depression_dataset.csv|2025-04-18 23:01:26.258|null          |null              |Poor         |1                      |Not Depressed   |2025-04-18 23:01:26.258|\n|94 |male  |null|kalyan       |student   |null             |null         |7.04|null              |null            |less than 5 hours|moderate      |m.tech    |0                                  |null                |null            |1                               |1         |2025-04-18 23:01:26.258|s3://student-depression/student-data/student_depression_dataset.csv|2025-04-18 23:01:26.258|null          |null              |Poor         |1                      |Depressed       |2025-04-18 23:01:26.258|\n|100|female|null|rajkot       |student   |null             |null         |8.52|null              |null            |less than 5 hours|unhealthy     |'class 12'|0                                  |null                |null            |1                               |0         |2025-04-18 23:01:26.258|s3://student-depression/student-data/student_depression_dataset.csv|2025-04-18 23:01:26.258|null          |null              |Poor         |1                      |Not Depressed   |2025-04-18 23:01:26.258|\n|103|female|null|kalyan       |student   |null             |null         |5.64|null              |null            |less than 5 hours|moderate      |'class 12'|1                                  |null                |null            |1                               |1         |2025-04-18 23:01:26.258|s3://student-depression/student-data/student_depression_dataset.csv|2025-04-18 23:01:26.258|null          |null              |Poor         |1                      |Depressed       |2025-04-18 23:01:26.258|\n|106|male  |null|srinagar     |student   |null             |null         |8.58|null              |null            |more than 8 hours|moderate      |m.tech    |1                                  |null                |null            |1                               |1         |2025-04-18 23:01:26.258|s3://student-depression/student-data/student_depression_dataset.csv|2025-04-18 23:01:26.258|null          |null              |Unknown      |1                      |Depressed       |2025-04-18 23:01:26.258|\n|120|male  |null|nashik       |student   |null             |null         |6.51|null              |null            |less than 5 hours|unhealthy     |m.ed      |1                                  |null                |null            |1                               |1         |2025-04-18 23:01:26.258|s3://student-depression/student-data/student_depression_dataset.csv|2025-04-18 23:01:26.258|null          |null              |Poor         |1                      |Depressed       |2025-04-18 23:01:26.258|\n|132|female|null|ahmedabad    |student   |null             |null         |7.25|null              |null            |5-6 hours        |healthy       |'class 12'|1                                  |null                |null            |0                               |1         |2025-04-18 23:01:26.258|s3://student-depression/student-data/student_depression_dataset.csv|2025-04-18 23:01:26.258|null          |null              |Moderate     |1                      |Depressed       |2025-04-18 23:01:26.258|\n|139|male  |null|chennai      |student   |null             |null         |7.83|null              |null            |7-8 hours        |unhealthy     |'class 12'|0                                  |null                |null            |0                               |0         |2025-04-18 23:01:26.258|s3://student-depression/student-data/student_depression_dataset.csv|2025-04-18 23:01:26.258|null          |null              |Good         |0                      |Not Depressed   |2025-04-18 23:01:26.258|\n|145|male  |null|kalyan       |student   |null             |null         |9.93|null              |null            |5-6 hours        |moderate      |b.ed      |0                                  |null                |null            |1                               |1         |2025-04-18 23:01:26.258|s3://student-depression/student-data/student_depression_dataset.csv|2025-04-18 23:01:26.258|null          |null              |Moderate     |1                      |Depressed       |2025-04-18 23:01:26.258|\n+---+------+----+-------------+----------+-----------------+-------------+----+------------------+----------------+-----------------+--------------+----------+-----------------------------------+--------------------+----------------+--------------------------------+----------+-----------------------+-------------------------------------------------------------------+-----------------------+--------------+------------------+-------------+-----------------------+----------------+-----------------------+\nonly showing top 20 rows\n\n"
     ]
    }
   ],
   "source": [
    "from pyspark.sql.functions import when, col, expr\n",
    "\n",
    "# Start from silver layer\n",
    "gold_data = silver_data\n",
    "\n",
    "# 1. Create a new column: Overall_Stress = Academic_Pressure + Work_Pressure + Financial_Stress\n",
    "gold_data = gold_data.withColumn(\n",
    "    \"Overall_Stress\",\n",
    "    col(\"Academic_Pressure\") + col(\"Work_Pressure\") + col(\"Financial_Stress\")\n",
    ")\n",
    "\n",
    "# 2. Create a new column: Total_Satisfaction = Study_Satisfaction + Job_Satisfaction\n",
    "gold_data = gold_data.withColumn(\n",
    "    \"Total_Satisfaction\",\n",
    "    col(\"Study_Satisfaction\") + col(\"Job_Satisfaction\")\n",
    ")\n",
    "\n",
    "# 3. Classify Sleep Quality from Sleep_Duration\n",
    "gold_data = gold_data.withColumn(\n",
    "    \"Sleep_Quality\",\n",
    "    when(col(\"Sleep_Duration\") == \"less than 5 hours\", \"Poor\")\n",
    "    .when(col(\"Sleep_Duration\") == \"5-6 hours\", \"Moderate\")\n",
    "    .when(col(\"Sleep_Duration\") == \"7-8 hours\", \"Good\")\n",
    "    .otherwise(\"Unknown\")\n",
    ")\n",
    "\n",
    "# 4. Create Mental_Health_Risk_Flag (1 if suicidal thoughts or depression or family history)\n",
    "gold_data = gold_data.withColumn(\n",
    "    \"Mental_Health_Risk_Flag\",\n",
    "    when((col(\"Have_you_ever_had_suicidal_thoughts\") == 1) | \n",
    "         (col(\"Depression\") == 1) | \n",
    "         (col(\"Family_History_of_Mental_Illness\") == 1), 1).otherwise(0)\n",
    ")\n",
    "\n",
    "# 5. Optional: Label-based version of depression\n",
    "gold_data = gold_data.withColumn(\n",
    "    \"Depression_Label\",\n",
    "    when(col(\"Depression\") == 1, \"Depressed\").otherwise(\"Not Depressed\")\n",
    ")\n",
    "\n",
    "# 6. Preserve processed_date and add gold_timestamp\n",
    "from pyspark.sql.functions import current_timestamp\n",
    "gold_data = gold_data.withColumn(\"gold_processed_date\", current_timestamp())\n",
    "\n",
    "gold_data.show(truncate=False)\n"
   ]
  },
  {
   "cell_type": "code",
   "execution_count": 0,
   "metadata": {
    "application/vnd.databricks.v1+cell": {
     "cellMetadata": {
      "byteLimit": 2048000,
      "rowLimit": 10000
     },
     "inputWidgets": {},
     "nuid": "467215ec-fafe-46f3-ada1-a6a66bd9aae3",
     "showTitle": false,
     "tableResultSettingsMap": {},
     "title": ""
    }
   },
   "outputs": [],
   "source": [
    "spark.sql(\"CREATE DATABASE IF NOT EXISTS gold\")\n",
    "\n",
    "gold_data.write.format(\"delta\") \\\n",
    "    .mode(\"overwrite\") \\\n",
    "    .saveAsTable(\"gold.gold_data\")\n"
   ]
  }
 ],
 "metadata": {
  "application/vnd.databricks.v1+notebook": {
   "computePreferences": null,
   "dashboards": [],
   "environmentMetadata": {
    "base_environment": "",
    "environment_version": "1"
   },
   "inputWidgetPreferences": null,
   "language": "python",
   "notebookMetadata": {
    "pythonIndentUnit": 4
   },
   "notebookName": "Student_Depression",
   "widgets": {}
  }
 },
 "nbformat": 4,
 "nbformat_minor": 0
}